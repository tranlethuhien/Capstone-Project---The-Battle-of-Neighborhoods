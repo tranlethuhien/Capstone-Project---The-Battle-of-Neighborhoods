{
    "nbformat_minor": 1, 
    "cells": [
        {
            "source": "# Capstone Project - The Battle of Neighborhoods ( Week 1)", 
            "cell_type": "markdown", 
            "metadata": {
                "collapsed": true
            }
        }, 
        {
            "source": "## Introduction \n*In this section, we will discuss the problem and who will be interested in this kind of problem*\n\nI will go to Paris, France in this summer vacation and I want to explore the beautiful attractions. Therefore, I will be using Foursquare to create a travel intinerary in Paris, which takes into account the travel time, must-see attractions and local famous destinations. \n\n**Paris**: is the capital and the most populous city of France, with an area of 05 square kilometres (41 square miles) and an official estimated population of 2,140,526 residents as of 1 January 2019. Since the 17th century, Paris has been one of Europe's major centres of finance, diplomacy, commerce, fashion, science, and the arts.", 
            "cell_type": "markdown", 
            "metadata": {}
        }, 
        {
            "source": "## Data\n\n*In this section, we will discuss the data that will be used to solve the problem*\n\nFor creating the travel intinery in Paris, I will use the Foursquare data along with data from wikipedia. Then the data will be cleaned and transformed into Pandas dataframe and finally, I will explore the data and create a journey with it. \n", 
            "cell_type": "markdown", 
            "metadata": {}
        }
    ], 
    "metadata": {
        "kernelspec": {
            "display_name": "Python 3.5", 
            "name": "python3", 
            "language": "python"
        }, 
        "language_info": {
            "mimetype": "text/x-python", 
            "nbconvert_exporter": "python", 
            "version": "3.5.5", 
            "name": "python", 
            "pygments_lexer": "ipython3", 
            "file_extension": ".py", 
            "codemirror_mode": {
                "version": 3, 
                "name": "ipython"
            }
        }
    }, 
    "nbformat": 4
}